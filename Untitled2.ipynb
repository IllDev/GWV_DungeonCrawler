{
 "cells": [
  {
   "cell_type": "markdown",
   "metadata": {},
   "source": [
    "<h1>Roboter sucht Ausgang g von Startpunkt s aus</h1>\n",
    "\n",
    "Der erste Teil des Programms holt das ASCII Art von der übergebenen URL und arbeitet es auf\n",
    "\n",
    "line.strip() um \\n loszuwerden\n",
    "\n",
    "die for Schleifen bauen eine Matrix auf.\n",
    "\n",
    "show zeigt die Matrix in einem lesbaren Format"
   ]
  },
  {
   "cell_type": "markdown",
   "metadata": {},
   "source": [
    "<h1></h1>"
   ]
  },
  {
   "cell_type": "code",
   "execution_count": 2,
   "metadata": {},
   "outputs": [],
   "source": [
    "from urllib.request import urlopen\n",
    "\n",
    "url = \"https://nats-www.informatik.uni-hamburg.de/pub/GWV1920/%dcbungsaufgaben/blatt3_environment.txt\"\n",
    "array = []\n",
    "arrayy= []\n",
    "matrix = []\n",
    "data = urlopen(url) # it's a file like object and works just like a file\n",
    "for line in data: # files are iterable\n",
    "    s = line.strip()\n",
    "    array.append(s)\n",
    "\n",
    "#matrix aufbauen aus dem vorhandenen array    \n",
    "for elem in array:\n",
    "    for char in elem:\n",
    "        i = chr(char)\n",
    "        arrayy.append(i) \n",
    "    matrix.append(arrayy)\n",
    "    arrayy = []\n",
    "    \n",
    "# Wenn du show(array) ausführst, dann kannst du dir die einzelnen Arrays angucken\n",
    "#Ist nur eine kleine Hilfsfunktion\n",
    "\n",
    "def show(x):\n",
    "    \n",
    "    i=0\n",
    "    while i < len(x):\n",
    "        print(x[i])\n",
    "        i = i+1"
   ]
  },
  {
   "cell_type": "code",
   "execution_count": 3,
   "metadata": {},
   "outputs": [],
   "source": [
    "#Grenze erkennen\n",
    "def rec_border(x,y):\n",
    "    if matrix[x][y] == \"x\":\n",
    "        return True\n",
    "    else:\n",
    "        return False"
   ]
  },
  {
   "cell_type": "code",
   "execution_count": 10,
   "metadata": {},
   "outputs": [],
   "source": [
    "#nicht getestet!!!\n",
    "def checkDouble(pos, liste):\n",
    "    for i in liste:\n",
    "        print(i)\n",
    "        if pos in liste:\n",
    "            print(pos + \"war in der Liste\")\n",
    "            next"
   ]
  },
  {
   "cell_type": "code",
   "execution_count": 5,
   "metadata": {},
   "outputs": [],
   "source": [
    "#rekursiv nach startpunkt s suchen\n",
    "#helper array leider zwingend notwendig, da der returnType sonst NullType wäre\n",
    "helper = []\n",
    "def find_s(x,y):\n",
    "    border = len(matrix) -1\n",
    "    if matrix[x][y] == \"s\":\n",
    "        helper.append(x)\n",
    "        helper.append(y)\n",
    "    else:\n",
    "        #print(x,y)\n",
    "        if x == border:\n",
    "            y = y + 1\n",
    "            x = 0\n",
    "        x = x+1\n",
    "        find_s(x,y)\n",
    "find_s(0,0)"
   ]
  },
  {
   "cell_type": "code",
   "execution_count": 6,
   "metadata": {},
   "outputs": [
    {
     "name": "stdout",
     "output_type": "stream",
     "text": [
      "[[4, 3], [4, 5], [3, 4], [5, 4]]\n"
     ]
    }
   ],
   "source": [
    "#TO-Do Doppelte Belegung in der Liste prüfen und ausschließen?\n",
    "\n",
    "neighbour = []\n",
    "def nextpos(pos):\n",
    "    left = []\n",
    "    right = []\n",
    "    up = []\n",
    "    down = []\n",
    "    a, b = pos\n",
    "    leftx, lefty = a, b-1\n",
    "    rightx, righty = a, b+1\n",
    "    upx, upy = a-1, b\n",
    "    downx, downy = a+1, b\n",
    "    left.append(leftx)\n",
    "    left.append(lefty)\n",
    "    right.append(rightx)\n",
    "    right.append(righty)\n",
    "    up.append(upx)\n",
    "    up.append(upy)\n",
    "    down.append(downx)\n",
    "    down.append(downy)\n",
    "    if rec_border(leftx, lefty) == True:\n",
    "        next\n",
    "    else:\n",
    "        neighbour.append(left)\n",
    "    if rec_border(rightx, righty) == True:\n",
    "        next\n",
    "    else:\n",
    "        neighbour.append(right)\n",
    "    if rec_border(upx, upy) == True:\n",
    "        next\n",
    "    else:\n",
    "        neighbour.append(up)\n",
    "    if rec_border(downx, downy) == True:\n",
    "        next\n",
    "    else:\n",
    "        neighbour.append(down)\n",
    "nextpos(helper)\n",
    "print(neighbour)"
   ]
  },
  {
   "cell_type": "code",
   "execution_count": 7,
   "metadata": {},
   "outputs": [
    {
     "name": "stdout",
     "output_type": "stream",
     "text": [
      "[[4, 2], [4, 4], [3, 3], [5, 3], [4, 4], [4, 6], [3, 5], [5, 5], [3, 3], [3, 5], [2, 4], [4, 4], [5, 3], [5, 5], [4, 4], [6, 4]]\n"
     ]
    }
   ],
   "source": [
    "nextNeigh = []\n",
    "nextNeigh = neighbour\n",
    "neighbour = []\n",
    "for i in nextNeigh:\n",
    "    nextpos(i)\n",
    "print(neighbour)"
   ]
  },
  {
   "cell_type": "code",
   "execution_count": 9,
   "metadata": {},
   "outputs": [
    {
     "name": "stdout",
     "output_type": "stream",
     "text": [
      " \n",
      "s\n",
      " \n",
      " \n",
      "s\n",
      " \n",
      " \n",
      " \n",
      " \n",
      " \n",
      " \n",
      "s\n",
      " \n",
      " \n",
      "s\n",
      "x\n"
     ]
    }
   ],
   "source": [
    "for i in neighbour:\n",
    "    a, b = i\n",
    "    print(matrix[a][b])"
   ]
  },
  {
   "cell_type": "code",
   "execution_count": 16,
   "metadata": {},
   "outputs": [],
   "source": [
    "# check auf g\n",
    "\n",
    "def is_g(positions):\n",
    "    a, b = positions\n",
    "    if matrix[a][b] == \"g\":\n",
    "        return True\n",
    "    else: return False\n"
   ]
  },
  {
   "cell_type": "code",
   "execution_count": 3,
   "metadata": {},
   "outputs": [],
   "source": [
    "testArray1 = [\"a\", \"b\", \"c\", \"d\", \"e\"]\n",
    "testArray2 = [\"a\", \"c\"]"
   ]
  },
  {
   "cell_type": "code",
   "execution_count": 11,
   "metadata": {},
   "outputs": [
    {
     "name": "stdout",
     "output_type": "stream",
     "text": [
      "a\n",
      "b\n",
      "c\n",
      "d\n",
      "e\n"
     ]
    }
   ],
   "source": [
    "checkDouble(testArray2, testArray1)"
   ]
  },
  {
   "cell_type": "code",
   "execution_count": 9,
   "metadata": {},
   "outputs": [
    {
     "name": "stdout",
     "output_type": "stream",
     "text": [
      "a\n",
      "lololol\n",
      "c\n",
      "lololol\n"
     ]
    }
   ],
   "source": [
    "for i in testArray2:\n",
    "    print(i)\n",
    "    if i in testArray1:\n",
    "        print(\"lololol\")"
   ]
  },
  {
   "cell_type": "code",
   "execution_count": null,
   "metadata": {},
   "outputs": [],
   "source": []
  }
 ],
 "metadata": {
  "kernelspec": {
   "display_name": "Python 3",
   "language": "python",
   "name": "python3"
  },
  "language_info": {
   "codemirror_mode": {
    "name": "ipython",
    "version": 3
   },
   "file_extension": ".py",
   "mimetype": "text/x-python",
   "name": "python",
   "nbconvert_exporter": "python",
   "pygments_lexer": "ipython3",
   "version": "3.7.0"
  }
 },
 "nbformat": 4,
 "nbformat_minor": 2
}
