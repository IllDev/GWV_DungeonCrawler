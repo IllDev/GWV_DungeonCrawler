{
 "cells": [
  {
   "cell_type": "markdown",
   "metadata": {},
   "source": [
    "<h1>Roboter sucht Ausgang g von Startpunkt s aus</h1>\n",
    "\n",
    "Der erste Teil des Programms holt das ASCII Art von der übergebenen URL und arbeitet es auf\n",
    "\n",
    "line.strip() um \\n loszuwerden\n",
    "\n",
    "die for Schleifen bauen eine Matrix auf.\n",
    "\n",
    "show zeigt die Matrix in einem lesbaren Format"
   ]
  },
  {
   "cell_type": "markdown",
   "metadata": {},
   "source": [
    "<h1></h1>\n",
    "<h2></h2>\n",
    "<a href=\"https://nats-www.informatik.uni-hamburg.de/pub/GWV1920/%dcbungsaufgaben/blatt3_environment.txt\">Seite des NATS bereich der Datei</a>\n"
   ]
  },
  {
   "cell_type": "code",
   "execution_count": 1,
   "metadata": {},
   "outputs": [],
   "source": [
    "from urllib.request import urlopen\n",
    "\n",
    "url = \"https://nats-www.informatik.uni-hamburg.de/pub/GWV1920/%dcbungsaufgaben/blatt3_environment.txt\"\n",
    "array = []\n",
    "arrayy = []\n",
    "matrix = []\n",
    "data = urlopen(url)\n",
    "for line in data: \n",
    "    s = line.strip()\n",
    "    array.append(s)\n",
    "\n",
    "#matrix aufbauen aus dem vorhandenen array    \n",
    "for elem in array:\n",
    "    for char in elem:\n",
    "        i = chr(char)\n",
    "        arrayy.append(i) \n",
    "    matrix.append(arrayy)\n",
    "    arrayy = []\n",
    "    \n",
    "# Wenn du show(array) ausführst, dann kannst du dir die einzelnen Arrays angucken\n",
    "#Ist nur eine kleine Hilfsfunktion\n",
    "\n",
    "def show(x):\n",
    "    \n",
    "    i=0\n",
    "    while i < len(x):\n",
    "        print(x[i])\n",
    "        i = i+1"
   ]
  },
  {
   "cell_type": "code",
   "execution_count": 2,
   "metadata": {},
   "outputs": [],
   "source": [
    "#Grenze erkennen\n",
    "def rec_border(x,y):\n",
    "    if matrix[x][y] == \"x\":\n",
    "        return True\n",
    "    else:\n",
    "        return False"
   ]
  },
  {
   "cell_type": "code",
   "execution_count": 3,
   "metadata": {},
   "outputs": [],
   "source": [
    "#nicht getestet!!!\n",
    "def checkDouble(pos, nachbarliste):\n",
    "    for i in liste:\n",
    "        if pos in liste:\n",
    "            print(pos + \"war in der Liste\")\n",
    "            next"
   ]
  },
  {
   "cell_type": "code",
   "execution_count": 124,
   "metadata": {},
   "outputs": [
    {
     "name": "stdout",
     "output_type": "stream",
     "text": [
      "[4, 4]\n"
     ]
    }
   ],
   "source": [
    "#rekursiv nach startpunkt s suchen\n",
    "#helper array leider zwingend notwendig, da der returnType sonst NullType wäre\n",
    "start = []\n",
    "def find_s(x,y):\n",
    "    border = len(matrix) -1\n",
    "    if matrix[x][y] == \"s\":\n",
    "        start.append(x)\n",
    "        start.append(y)\n",
    "    else:\n",
    "        #print(x,y)\n",
    "        if x == border:\n",
    "            y = y + 1\n",
    "            x = 0\n",
    "        x = x+1\n",
    "        find_s(x,y)\n",
    "find_s(0,0)\n",
    "print(start)"
   ]
  },
  {
   "cell_type": "code",
   "execution_count": 328,
   "metadata": {},
   "outputs": [
    {
     "data": {
      "text/plain": [
       "[(4, 3), (4, 5), (3, 4), (5, 4)]"
      ]
     },
     "execution_count": 328,
     "metadata": {},
     "output_type": "execute_result"
    }
   ],
   "source": [
    "#TO-Do Doppelte Belegung in der Liste prüfen und ausschließen?\n",
    "\n",
    "\n",
    "def nextpos(pos):\n",
    "    neighbour = []\n",
    "    left = []\n",
    "    right = []\n",
    "    up = []\n",
    "    down = []\n",
    "    a, b = pos\n",
    "    leftx, lefty = a, b-1\n",
    "    rightx, righty = a, b+1\n",
    "    upx, upy = a-1, b\n",
    "    downx, downy = a+1, b\n",
    "    left.append(leftx)\n",
    "    left.append(lefty)\n",
    "    right.append(rightx)\n",
    "    right.append(righty)\n",
    "    up.append(upx)\n",
    "    up.append(upy)\n",
    "    down.append(downx)\n",
    "    down.append(downy)\n",
    "    if rec_border(leftx, lefty) == True:\n",
    "        next\n",
    "    else:\n",
    "        neighbour.append(tuple(left))\n",
    "    if rec_border(rightx, righty) == True:\n",
    "        next\n",
    "    else:\n",
    "        neighbour.append(tuple(right))\n",
    "    if rec_border(upx, upy) == True:\n",
    "        next\n",
    "    else:\n",
    "        neighbour.append(tuple(up))\n",
    "    if rec_border(downx, downy) == True:\n",
    "        next\n",
    "    else:\n",
    "        neighbour.append(tuple(down))\n",
    "    return neighbour\n",
    "nextpos(start)"
   ]
  },
  {
   "cell_type": "code",
   "execution_count": 65,
   "metadata": {},
   "outputs": [
    {
     "name": "stdout",
     "output_type": "stream",
     "text": [
      "{(4, 3): [[4, 2], [4, 4], [3, 3], [5, 3]], (4, 5): [[4, 4], [4, 6], [3, 5], [5, 5]], (3, 4): [[3, 3], [3, 5], [2, 4], [4, 4]], (5, 4): [[5, 3], [5, 5], [4, 4]]}\n"
     ]
    }
   ],
   "source": [
    "dictionary = {}\n",
    "dictionary2 = {}\n",
    "\n",
    "def getNeighs(positions):\n",
    "    nextNeigh = []\n",
    "    nextNeigh = nextpos(positions)\n",
    "    #print(nextNeigh)\n",
    "    neighbour = []\n",
    "    for i in nextNeigh:\n",
    "        a, b = i\n",
    "        if (a, b) in dictionary:\n",
    "            next\n",
    "        else:\n",
    "            value = nextpos(i)\n",
    "            dictionary[a, b] = value\n",
    "getNeighs(start)\n",
    "print(dictionary)"
   ]
  },
  {
   "cell_type": "code",
   "execution_count": 75,
   "metadata": {},
   "outputs": [
    {
     "name": "stdout",
     "output_type": "stream",
     "text": [
      "(4, 3)\n",
      "(4, 5)\n",
      "(3, 4)\n",
      "(5, 4)\n",
      "(4, 1)\n",
      "(3, 2)\n",
      "(5, 2)\n",
      "(2, 3)\n",
      "{(4, 3): [[4, 2], [4, 4], [3, 3], [5, 3]], (4, 5): [[4, 4], [4, 6], [3, 5], [5, 5]], (3, 4): [[3, 3], [3, 5], [2, 4], [4, 4]], (5, 4): [[5, 3], [5, 5], [4, 4]], (4, 1): [[4, 2], [3, 1], [5, 1]], (3, 2): [[3, 1], [3, 3], [2, 2], [4, 2]], (5, 2): [[5, 1], [5, 3], [4, 2], [6, 2]], (2, 3): [[2, 2], [2, 4], [1, 3], [3, 3]]}\n"
     ]
    }
   ],
   "source": [
    "dictionary2.update(dictionary)\n",
    "for i in dictionary:\n",
    "    print(i)\n",
    "    #for j in dictionary[key][i]:\n",
    "     #   getNeighs(tuple(j))\n",
    "print(dictionary)\n",
    "    "
   ]
  },
  {
   "cell_type": "code",
   "execution_count": 70,
   "metadata": {},
   "outputs": [
    {
     "data": {
      "text/plain": [
       "[[4, 2], [4, 4], [3, 3], [5, 3]]"
      ]
     },
     "execution_count": 70,
     "metadata": {},
     "output_type": "execute_result"
    }
   ],
   "source": [
    "dictionary[key]"
   ]
  },
  {
   "cell_type": "code",
   "execution_count": 72,
   "metadata": {},
   "outputs": [
    {
     "data": {
      "text/plain": [
       "(5, 3)"
      ]
     },
     "execution_count": 72,
     "metadata": {},
     "output_type": "execute_result"
    }
   ],
   "source": [
    "tuple(j)"
   ]
  },
  {
   "cell_type": "code",
   "execution_count": 8,
   "metadata": {},
   "outputs": [],
   "source": [
    "# check auf g\n",
    "\n",
    "def is_g(positions):\n",
    "    a, b = positions\n",
    "    if matrix[a][b] == \"g\":\n",
    "        return True\n",
    "    else: return False\n"
   ]
  },
  {
   "cell_type": "code",
   "execution_count": 9,
   "metadata": {},
   "outputs": [],
   "source": [
    "testArray1 = [\"a\", \"b\", \"c\", \"d\", \"e\"]\n",
    "testArray2 = [\"a\", \"c\"]"
   ]
  },
  {
   "cell_type": "code",
   "execution_count": 10,
   "metadata": {},
   "outputs": [
    {
     "ename": "NameError",
     "evalue": "name 'liste' is not defined",
     "output_type": "error",
     "traceback": [
      "\u001b[1;31m---------------------------------------------------------------------------\u001b[0m",
      "\u001b[1;31mNameError\u001b[0m                                 Traceback (most recent call last)",
      "\u001b[1;32m<ipython-input-10-abfac1230f2e>\u001b[0m in \u001b[0;36m<module>\u001b[1;34m()\u001b[0m\n\u001b[1;32m----> 1\u001b[1;33m \u001b[0mcheckDouble\u001b[0m\u001b[1;33m(\u001b[0m\u001b[0mtestArray2\u001b[0m\u001b[1;33m,\u001b[0m \u001b[0mtestArray1\u001b[0m\u001b[1;33m)\u001b[0m\u001b[1;33m\u001b[0m\u001b[0m\n\u001b[0m",
      "\u001b[1;32m<ipython-input-3-9ba636b57aea>\u001b[0m in \u001b[0;36mcheckDouble\u001b[1;34m(pos, nachbarliste)\u001b[0m\n\u001b[0;32m      1\u001b[0m \u001b[1;31m#nicht getestet!!!\u001b[0m\u001b[1;33m\u001b[0m\u001b[1;33m\u001b[0m\u001b[0m\n\u001b[0;32m      2\u001b[0m \u001b[1;32mdef\u001b[0m \u001b[0mcheckDouble\u001b[0m\u001b[1;33m(\u001b[0m\u001b[0mpos\u001b[0m\u001b[1;33m,\u001b[0m \u001b[0mnachbarliste\u001b[0m\u001b[1;33m)\u001b[0m\u001b[1;33m:\u001b[0m\u001b[1;33m\u001b[0m\u001b[0m\n\u001b[1;32m----> 3\u001b[1;33m     \u001b[1;32mfor\u001b[0m \u001b[0mi\u001b[0m \u001b[1;32min\u001b[0m \u001b[0mliste\u001b[0m\u001b[1;33m:\u001b[0m\u001b[1;33m\u001b[0m\u001b[0m\n\u001b[0m\u001b[0;32m      4\u001b[0m         \u001b[1;32mif\u001b[0m \u001b[0mpos\u001b[0m \u001b[1;32min\u001b[0m \u001b[0mliste\u001b[0m\u001b[1;33m:\u001b[0m\u001b[1;33m\u001b[0m\u001b[0m\n\u001b[0;32m      5\u001b[0m             \u001b[0mprint\u001b[0m\u001b[1;33m(\u001b[0m\u001b[0mpos\u001b[0m \u001b[1;33m+\u001b[0m \u001b[1;34m\"war in der Liste\"\u001b[0m\u001b[1;33m)\u001b[0m\u001b[1;33m\u001b[0m\u001b[0m\n",
      "\u001b[1;31mNameError\u001b[0m: name 'liste' is not defined"
     ]
    }
   ],
   "source": [
    "checkDouble(testArray2, testArray1)"
   ]
  },
  {
   "cell_type": "code",
   "execution_count": 11,
   "metadata": {},
   "outputs": [
    {
     "name": "stdout",
     "output_type": "stream",
     "text": [
      "a\n",
      "lololol\n",
      "c\n",
      "lololol\n"
     ]
    }
   ],
   "source": [
    "for i in testArray2:\n",
    "    print(i)\n",
    "    if i in testArray1:\n",
    "        print(\"lololol\")"
   ]
  },
  {
   "cell_type": "code",
   "execution_count": 140,
   "metadata": {},
   "outputs": [
    {
     "data": {
      "text/plain": [
       "EdgeView([((4, 4), (4, 3)), ((4, 4), (4, 5)), ((4, 4), (3, 4)), ((4, 4), (5, 4)), ((4, 3), (4, 2)), ((4, 3), (3, 3)), ((4, 3), (5, 3)), ((3, 3), (3, 4)), ((5, 3), (5, 4)), ((4, 5), (4, 6)), ((4, 5), (3, 5)), ((4, 5), (5, 5)), ((3, 5), (3, 4)), ((5, 5), (5, 4)), ((3, 4), (2, 4))])"
      ]
     },
     "execution_count": 140,
     "metadata": {},
     "output_type": "execute_result"
    },
    {
     "data": {
      "image/png": "[encoded data removed]",
      "text/plain": [
       "<Figure size 432x288 with 1 Axes>"
      ]
     },
     "metadata": {},
     "output_type": "display_data"
    }
   ],
   "source": [
    "Graph = nx.Graph()\n",
    "Graph.add_node(tuple(start))\n",
    "for i in nextpos(start):\n",
    "    Graph.add_node(tuple(i))\n",
    "    Graph.add_edge(tuple(i),tuple(start))\n",
    "    for j in nextpos(i):\n",
    "        Graph.add_node(tuple(j))\n",
    "        Graph.add_edge(tuple(j),tuple(i))\n",
    "\n",
    "nx.draw(Graph, with_labels=True, font_weight='bold')\n",
    "Graph.edges"
   ]
  },
  {
   "cell_type": "code",
   "execution_count": 97,
   "metadata": {},
   "outputs": [],
   "source": [
    "import networkx as nx\n",
    "import matplotlib.pyplot as plt"
   ]
  },
  {
   "cell_type": "code",
   "execution_count": 349,
   "metadata": {},
   "outputs": [],
   "source": [
    "Graph.clear()\n",
    "Graph2.clear()"
   ]
  },
  {
   "cell_type": "code",
   "execution_count": 361,
   "metadata": {},
   "outputs": [
    {
     "name": "stdout",
     "output_type": "stream",
     "text": [
      "['x', 'x', 'x', 'x', 'x', 'x', 'x', 'x', 'x', 'x', 'x', 'x', 'x', 'x', 'x', 'x', 'x', 'x', 'x', 'x']\n",
      "['x', ' ', ' ', ' ', ' ', ' ', ' ', ' ', ' ', ' ', ' ', ' ', ' ', ' ', ' ', ' ', ' ', ' ', ' ', 'x']\n",
      "['x', ' ', ' ', ' ', ' ', ' ', ' ', ' ', 'x', 'x', 'x', ' ', ' ', ' ', ' ', ' ', ' ', ' ', ' ', 'x']\n",
      "['x', ' ', ' ', ' ', ' ', ' ', ' ', ' ', 'x', ' ', 'x', 'x', 'x', 'x', 'x', ' ', ' ', ' ', ' ', 'x']\n",
      "['x', ' ', ' ', ' ', 's', ' ', ' ', ' ', ' ', ' ', 'x', ' ', ' ', ' ', ' ', ' ', ' ', ' ', ' ', 'x']\n",
      "['x', ' ', ' ', ' ', ' ', ' ', ' ', ' ', 'x', ' ', 'x', ' ', ' ', 'x', 'x', 'x', 'x', 'x', 'x', 'x']\n",
      "['x', ' ', ' ', 'x', 'x', ' ', 'x', 'x', 'x', 'x', 'x', ' ', ' ', ' ', ' ', ' ', ' ', ' ', ' ', 'x']\n",
      "['x', ' ', ' ', ' ', ' ', ' ', ' ', 'x', ' ', ' ', ' ', ' ', ' ', ' ', 'g', ' ', ' ', ' ', ' ', 'x']\n",
      "['x', ' ', ' ', ' ', ' ', ' ', ' ', 'x', ' ', ' ', ' ', ' ', ' ', ' ', ' ', ' ', ' ', ' ', ' ', 'x']\n",
      "['x', 'x', 'x', 'x', 'x', 'x', 'x', 'x', 'x', 'x', 'x', 'x', 'x', 'x', 'x', 'x', 'x', 'x', 'x', 'x']\n",
      "x\n"
     ]
    },
    {
     "ename": "TypeError",
     "evalue": "list indices must be integers or slices, not tuple",
     "output_type": "error",
     "traceback": [
      "\u001b[1;31m---------------------------------------------------------------------------\u001b[0m",
      "\u001b[1;31mTypeError\u001b[0m                                 Traceback (most recent call last)",
      "\u001b[1;32m<ipython-input-361-845af08c102c>\u001b[0m in \u001b[0;36m<module>\u001b[1;34m()\u001b[0m\n\u001b[0;32m      2\u001b[0m \u001b[0mshow\u001b[0m\u001b[1;33m(\u001b[0m\u001b[0mmatrix\u001b[0m\u001b[1;33m)\u001b[0m\u001b[1;33m\u001b[0m\u001b[0m\n\u001b[0;32m      3\u001b[0m \u001b[0mprint\u001b[0m\u001b[1;33m(\u001b[0m\u001b[0mmatrix\u001b[0m\u001b[1;33m[\u001b[0m\u001b[1;36m6\u001b[0m\u001b[1;33m]\u001b[0m\u001b[1;33m[\u001b[0m\u001b[1;36m4\u001b[0m\u001b[1;33m]\u001b[0m\u001b[1;33m)\u001b[0m\u001b[1;33m\u001b[0m\u001b[0m\n\u001b[1;32m----> 4\u001b[1;33m \u001b[0mprint\u001b[0m\u001b[1;33m(\u001b[0m\u001b[0mlen\u001b[0m\u001b[1;33m(\u001b[0m \u001b[0mi\u001b[0m \u001b[1;32min\u001b[0m \u001b[1;33m(\u001b[0m\u001b[0mmatrix\u001b[0m\u001b[1;33m[\u001b[0m\u001b[0mi\u001b[0m\u001b[1;33m]\u001b[0m\u001b[1;33m[\u001b[0m\u001b[0mx\u001b[0m\u001b[1;33m]\u001b[0m\u001b[1;33m)\u001b[0m\u001b[1;33m)\u001b[0m\u001b[1;33m)\u001b[0m\u001b[1;33m\u001b[0m\u001b[0m\n\u001b[0m",
      "\u001b[1;31mTypeError\u001b[0m: list indices must be integers or slices, not tuple"
     ]
    }
   ],
   "source": [
    "Graph.nodes()\n",
    "show(matrix)\n",
    "print(matrix[6][4])\n",
    "print(len( i in (matrix[i][x])))"
   ]
  },
  {
   "cell_type": "code",
   "execution_count": 354,
   "metadata": {},
   "outputs": [
    {
     "data": {
      "text/plain": [
       "117"
      ]
     },
     "execution_count": 354,
     "metadata": {},
     "output_type": "execute_result"
    }
   ],
   "source": [
    "border = len(matrix) - 1\n",
    "x = 0\n",
    "y = 0\n",
    "for line in matrix:\n",
    "    for element in line:\n",
    "        if element == 'x':\n",
    "            x = x + 1\n",
    "            next\n",
    "        else:\n",
    "            j = x,y\n",
    "            Graph.add_node(tuple(j))\n",
    "            x = x+1\n",
    "    y = y +1\n",
    "    x = 0\n",
    "len(Graph2.nodes)\n"
   ]
  },
  {
   "cell_type": "code",
   "execution_count": 326,
   "metadata": {},
   "outputs": [
    {
     "ename": "IndexError",
     "evalue": "list index out of range",
     "output_type": "error",
     "traceback": [
      "\u001b[1;31m---------------------------------------------------------------------------\u001b[0m",
      "\u001b[1;31mIndexError\u001b[0m                                Traceback (most recent call last)",
      "\u001b[1;32m<ipython-input-326-e514e1f8c47b>\u001b[0m in \u001b[0;36m<module>\u001b[1;34m()\u001b[0m\n\u001b[0;32m     11\u001b[0m         \u001b[0mj\u001b[0m \u001b[1;33m=\u001b[0m \u001b[0mx\u001b[0m\u001b[1;33m-\u001b[0m\u001b[1;36m1\u001b[0m\u001b[1;33m,\u001b[0m\u001b[0my\u001b[0m\u001b[1;33m\u001b[0m\u001b[0m\n\u001b[0;32m     12\u001b[0m         \u001b[0mGraph2\u001b[0m\u001b[1;33m.\u001b[0m\u001b[0madd_edge\u001b[0m\u001b[1;33m(\u001b[0m\u001b[0mnode\u001b[0m\u001b[1;33m,\u001b[0m \u001b[0mtuple\u001b[0m\u001b[1;33m(\u001b[0m\u001b[0mj\u001b[0m\u001b[1;33m)\u001b[0m\u001b[1;33m)\u001b[0m\u001b[1;33m\u001b[0m\u001b[0m\n\u001b[1;32m---> 13\u001b[1;33m     \u001b[1;32mif\u001b[0m \u001b[0mmatrix\u001b[0m\u001b[1;33m[\u001b[0m\u001b[0mx\u001b[0m\u001b[1;33m+\u001b[0m\u001b[1;36m1\u001b[0m\u001b[1;33m]\u001b[0m\u001b[1;33m[\u001b[0m\u001b[0my\u001b[0m\u001b[1;33m]\u001b[0m \u001b[1;33m==\u001b[0m \u001b[1;34m'x'\u001b[0m\u001b[1;33m:\u001b[0m\u001b[1;33m\u001b[0m\u001b[0m\n\u001b[0m\u001b[0;32m     14\u001b[0m         \u001b[0mnext\u001b[0m\u001b[1;33m\u001b[0m\u001b[0m\n\u001b[0;32m     15\u001b[0m     \u001b[1;32melse\u001b[0m\u001b[1;33m:\u001b[0m\u001b[1;33m\u001b[0m\u001b[0m\n",
      "\u001b[1;31mIndexError\u001b[0m: list index out of range"
     ]
    }
   ],
   "source": [
    "Graph2 = Graph\n",
    "for node in list(Graph.nodes()):\n",
    "    x,y = node\n",
    "    if x+1 >= len(matrix):\n",
    "        print(\"warning\")\n",
    "        next\n",
    "    else:\n",
    "        if matrix[x-1][y] == 'x':\n",
    "            next\n",
    "        else:\n",
    "            j = x-1,y\n",
    "            Graph2.add_edge(node, tuple(j))\n",
    "        if matrix[x+1][y] == 'x':\n",
    "            next\n",
    "        else:\n",
    "            j = x+1,y\n",
    "            Graph2.add_edge(node, tuple(j))\n",
    "        if matrix[x][y-1] == 'x':\n",
    "            next\n",
    "        else:\n",
    "            j = x,y-1\n",
    "            Graph2.add_edge(node, tuple(j))\n",
    "        if matrix[x][y+1] == 'x':\n",
    "            next\n",
    "        else:\n",
    "            j = x,y+1\n",
    "            Graph2.add_edge(node, tuple(j))\n"
   ]
  },
  {
   "cell_type": "code",
   "execution_count": 353,
   "metadata": {},
   "outputs": [
    {
     "name": "stdout",
     "output_type": "stream",
     "text": [
      "(1, 2)\n",
      "(2, 1)\n",
      "(2, 2)\n",
      "(1, 1)\n",
      "(3, 1)\n",
      "(3, 2)\n",
      "(2, 1)\n",
      "(4, 1)\n",
      "(4, 2)\n",
      "(3, 1)\n",
      "(5, 1)\n",
      "(5, 2)\n",
      "(4, 1)\n",
      "(6, 1)\n",
      "(6, 2)\n",
      "(5, 1)\n",
      "(7, 1)\n",
      "(7, 2)\n",
      "(6, 1)\n",
      "(8, 1)\n",
      "(8, 2)\n",
      "(7, 1)\n"
     ]
    },
    {
     "ename": "IndexError",
     "evalue": "list index out of range",
     "output_type": "error",
     "traceback": [
      "\u001b[1;31m---------------------------------------------------------------------------\u001b[0m",
      "\u001b[1;31mIndexError\u001b[0m                                Traceback (most recent call last)",
      "\u001b[1;32m<ipython-input-353-290324d5e4cf>\u001b[0m in \u001b[0;36m<module>\u001b[1;34m()\u001b[0m\n\u001b[0;32m      1\u001b[0m \u001b[1;32mfor\u001b[0m \u001b[0mi\u001b[0m \u001b[1;32min\u001b[0m \u001b[0mlist\u001b[0m\u001b[1;33m(\u001b[0m\u001b[0mGraph2\u001b[0m\u001b[1;33m.\u001b[0m\u001b[0mnode\u001b[0m\u001b[1;33m.\u001b[0m\u001b[0mkeys\u001b[0m\u001b[1;33m(\u001b[0m\u001b[1;33m)\u001b[0m\u001b[1;33m)\u001b[0m\u001b[1;33m:\u001b[0m\u001b[1;33m\u001b[0m\u001b[0m\n\u001b[1;32m----> 2\u001b[1;33m     \u001b[1;32mfor\u001b[0m \u001b[0mj\u001b[0m \u001b[1;32min\u001b[0m \u001b[0mnextpos\u001b[0m\u001b[1;33m(\u001b[0m\u001b[0mi\u001b[0m\u001b[1;33m)\u001b[0m\u001b[1;33m:\u001b[0m\u001b[1;33m\u001b[0m\u001b[0m\n\u001b[0m\u001b[0;32m      3\u001b[0m         \u001b[0mprint\u001b[0m\u001b[1;33m(\u001b[0m\u001b[0mj\u001b[0m\u001b[1;33m)\u001b[0m\u001b[1;33m\u001b[0m\u001b[0m\n",
      "\u001b[1;32m<ipython-input-328-1f8294469434>\u001b[0m in \u001b[0;36mnextpos\u001b[1;34m(pos)\u001b[0m\n\u001b[0;32m     33\u001b[0m     \u001b[1;32melse\u001b[0m\u001b[1;33m:\u001b[0m\u001b[1;33m\u001b[0m\u001b[0m\n\u001b[0;32m     34\u001b[0m         \u001b[0mneighbour\u001b[0m\u001b[1;33m.\u001b[0m\u001b[0mappend\u001b[0m\u001b[1;33m(\u001b[0m\u001b[0mtuple\u001b[0m\u001b[1;33m(\u001b[0m\u001b[0mup\u001b[0m\u001b[1;33m)\u001b[0m\u001b[1;33m)\u001b[0m\u001b[1;33m\u001b[0m\u001b[0m\n\u001b[1;32m---> 35\u001b[1;33m     \u001b[1;32mif\u001b[0m \u001b[0mrec_border\u001b[0m\u001b[1;33m(\u001b[0m\u001b[0mdownx\u001b[0m\u001b[1;33m,\u001b[0m \u001b[0mdowny\u001b[0m\u001b[1;33m)\u001b[0m \u001b[1;33m==\u001b[0m \u001b[1;32mTrue\u001b[0m\u001b[1;33m:\u001b[0m\u001b[1;33m\u001b[0m\u001b[0m\n\u001b[0m\u001b[0;32m     36\u001b[0m         \u001b[0mnext\u001b[0m\u001b[1;33m\u001b[0m\u001b[0m\n\u001b[0;32m     37\u001b[0m     \u001b[1;32melse\u001b[0m\u001b[1;33m:\u001b[0m\u001b[1;33m\u001b[0m\u001b[0m\n",
      "\u001b[1;32m<ipython-input-2-ef2f1ce48bd0>\u001b[0m in \u001b[0;36mrec_border\u001b[1;34m(x, y)\u001b[0m\n\u001b[0;32m      1\u001b[0m \u001b[1;31m#Grenze erkennen\u001b[0m\u001b[1;33m\u001b[0m\u001b[1;33m\u001b[0m\u001b[0m\n\u001b[0;32m      2\u001b[0m \u001b[1;32mdef\u001b[0m \u001b[0mrec_border\u001b[0m\u001b[1;33m(\u001b[0m\u001b[0mx\u001b[0m\u001b[1;33m,\u001b[0m\u001b[0my\u001b[0m\u001b[1;33m)\u001b[0m\u001b[1;33m:\u001b[0m\u001b[1;33m\u001b[0m\u001b[0m\n\u001b[1;32m----> 3\u001b[1;33m     \u001b[1;32mif\u001b[0m \u001b[0mmatrix\u001b[0m\u001b[1;33m[\u001b[0m\u001b[0mx\u001b[0m\u001b[1;33m]\u001b[0m\u001b[1;33m[\u001b[0m\u001b[0my\u001b[0m\u001b[1;33m]\u001b[0m \u001b[1;33m==\u001b[0m \u001b[1;34m\"x\"\u001b[0m\u001b[1;33m:\u001b[0m\u001b[1;33m\u001b[0m\u001b[0m\n\u001b[0m\u001b[0;32m      4\u001b[0m         \u001b[1;32mreturn\u001b[0m \u001b[1;32mTrue\u001b[0m\u001b[1;33m\u001b[0m\u001b[0m\n\u001b[0;32m      5\u001b[0m     \u001b[1;32melse\u001b[0m\u001b[1;33m:\u001b[0m\u001b[1;33m\u001b[0m\u001b[0m\n",
      "\u001b[1;31mIndexError\u001b[0m: list index out of range"
     ]
    }
   ],
   "source": [
    "for i in list(Graph2.node.keys()):\n",
    "    for j in nextpos(i):\n",
    "        print(j)"
   ]
  },
  {
   "cell_type": "code",
   "execution_count": 114,
   "metadata": {},
   "outputs": [
    {
     "name": "stdout",
     "output_type": "stream",
     "text": [
      "\n"
     ]
    }
   ],
   "source": [
    "G.clear()\n",
    "for i in nextpos(start):\n",
    "    G.add_node(tuple(i))\n",
    "#G.add_edges_from([(1,2), (1,3), (2,4)])\n",
    "print(G)"
   ]
  },
  {
   "cell_type": "code",
   "execution_count": 340,
   "metadata": {},
   "outputs": [
    {
     "ename": "RuntimeError",
     "evalue": "dictionary changed size during iteration",
     "output_type": "error",
     "traceback": [
      "\u001b[1;31m---------------------------------------------------------------------------\u001b[0m",
      "\u001b[1;31mRuntimeError\u001b[0m                              Traceback (most recent call last)",
      "\u001b[1;32m<ipython-input-340-da3e92fd588b>\u001b[0m in \u001b[0;36m<module>\u001b[1;34m()\u001b[0m\n\u001b[1;32m----> 1\u001b[1;33m \u001b[1;32mfor\u001b[0m \u001b[0mi\u001b[0m \u001b[1;32min\u001b[0m \u001b[0mGraph2\u001b[0m\u001b[1;33m.\u001b[0m\u001b[0mnodes\u001b[0m\u001b[1;33m:\u001b[0m\u001b[1;33m\u001b[0m\u001b[0m\n\u001b[0m\u001b[0;32m      2\u001b[0m     \u001b[0mGraph2\u001b[0m\u001b[1;33m.\u001b[0m\u001b[0madd_edge\u001b[0m\u001b[1;33m(\u001b[0m\u001b[0mi\u001b[0m\u001b[1;33m,\u001b[0m \u001b[1;33m(\u001b[0m\u001b[0mj\u001b[0m \u001b[1;32mfor\u001b[0m \u001b[0mi\u001b[0m \u001b[1;32min\u001b[0m \u001b[0mnextpos\u001b[0m\u001b[1;33m(\u001b[0m\u001b[0mi\u001b[0m\u001b[1;33m)\u001b[0m\u001b[1;33m)\u001b[0m\u001b[1;33m)\u001b[0m\u001b[1;33m\u001b[0m\u001b[0m\n",
      "\u001b[1;31mRuntimeError\u001b[0m: dictionary changed size during iteration"
     ]
    }
   ],
   "source": [
    "for i in Graph2.nodes:\n",
    "    Graph2.add_edge(i, (j for i in nextpos(i)))"
   ]
  },
  {
   "cell_type": "code",
   "execution_count": 111,
   "metadata": {},
   "outputs": [
    {
     "data": {
      "text/plain": [
       "5"
      ]
     },
     "execution_count": 111,
     "metadata": {},
     "output_type": "execute_result"
    }
   ],
   "source": [
    "a = 4\n",
    "b=4\n",
    "i = a, b\n",
    "G.add_node(tuple(i))\n",
    "G.add_edge(tuple(i), 1)\n",
    "G.number_of_nodes()\n",
    "#G.number_of_edges()"
   ]
  },
  {
   "cell_type": "code",
   "execution_count": 352,
   "metadata": {},
   "outputs": [
    {
     "data": {
      "image/png": "[encoded data removed]",
      "text/plain": [
       "<Figure size 432x288 with 1 Axes>"
      ]
     },
     "metadata": {},
     "output_type": "display_data"
    }
   ],
   "source": [
    "options = {\n",
    "    'node_color': 'black',\n",
    "    'node_size': 10,\n",
    "    'line_color': 'grey',\n",
    "    'linewidths': 0,\n",
    "    'width': 0.3,\n",
    "}\n",
    "nx.draw(Graph2, **options)\n",
    "plt.show()\n"
   ]
  },
  {
   "cell_type": "code",
   "execution_count": 346,
   "metadata": {},
   "outputs": [
    {
     "data": {
      "text/plain": [
       "EdgeView([((1, 1), (2, 1)), ((1, 1), (1, 2)), ((1, 1), <generator object <genexpr> at 0x000001DF66F76408>), ((1, 1), <generator object <genexpr> at 0x000001DF66F76840>), ((1, 1), <generator object <genexpr> at 0x000001DF66E8A750>), ((2, 1), (3, 1)), ((2, 1), (2, 2)), ((2, 1), <generator object <genexpr> at 0x000001DF66E8AA20>), ((3, 1), (4, 1)), ((3, 1), (3, 2)), ((3, 1), <generator object <genexpr> at 0x000001DF66E8AF48>), ((4, 1), (5, 1)), ((4, 1), (4, 2)), ((4, 1), <generator object <genexpr> at 0x000001DF66E8AB88>), ((5, 1), (6, 1)), ((5, 1), (5, 2)), ((5, 1), <generator object <genexpr> at 0x000001DF66F76930>), ((6, 1), (7, 1)), ((6, 1), (6, 2)), ((6, 1), <generator object <genexpr> at 0x000001DF66F766D8>), ((7, 1), (8, 1)), ((7, 1), (7, 2)), ((7, 1), <generator object <genexpr> at 0x000001DF66F76228>), ((8, 1), (8, 2)), ((8, 1), (9, 1)), ((8, 1), <generator object <genexpr> at 0x000001DF66F76480>), ((1, 2), (2, 2)), ((1, 2), (1, 3)), ((2, 2), (3, 2)), ((2, 2), (2, 3)), ((3, 2), (4, 2)), ((3, 2), (3, 3)), ((4, 2), (5, 2)), ((4, 2), (4, 3)), ((5, 2), (6, 2)), ((5, 2), (5, 3)), ((6, 2), (7, 2)), ((6, 2), (6, 3)), ((7, 2), (8, 2)), ((7, 2), (7, 3)), ((1, 3), (2, 3)), ((1, 3), (1, 4)), ((2, 3), (3, 3)), ((2, 3), (2, 4)), ((3, 3), (4, 3)), ((3, 3), (3, 4)), ((4, 3), (5, 3)), ((4, 3), (4, 4)), ((5, 3), (5, 4)), ((5, 3), (6, 3)), ((6, 3), (7, 3)), ((7, 3), (8, 3)), ((7, 3), (7, 4)), ((1, 4), (2, 4)), ((1, 4), (1, 5)), ((2, 4), (3, 4)), ((2, 4), (2, 5)), ((3, 4), (4, 4)), ((3, 4), (3, 5)), ((4, 4), (5, 4)), ((4, 4), (4, 5)), ((5, 4), (5, 5)), ((5, 4), (6, 4)), ((6, 4), (7, 4)), ((6, 4), (6, 5)), ((7, 4), (8, 4)), ((7, 4), (7, 5)), ((8, 4), (8, 3)), ((8, 4), (8, 5)), ((1, 5), (2, 5)), ((1, 5), (1, 6)), ((2, 5), (3, 5)), ((2, 5), (2, 6)), ((3, 5), (4, 5)), ((3, 5), (3, 6)), ((4, 5), (5, 5)), ((4, 5), (4, 6)), ((5, 5), (6, 5)), ((5, 5), (5, 6)), ((6, 5), (7, 5)), ((7, 5), (8, 5)), ((7, 5), (7, 6)), ((1, 6), (2, 6)), ((1, 6), (1, 7)), ((2, 6), (3, 6)), ((2, 6), (2, 7)), ((5, 6), (4, 6)), ((5, 6), (5, 7)), ((1, 7), (2, 7)), ((1, 7), (1, 8)), ((2, 7), (3, 7)), ((2, 7), (2, 8)), ((3, 7), (4, 7)), ((3, 7), (3, 6)), ((3, 7), (3, 8)), ((4, 7), (5, 7)), ((4, 7), (4, 6)), ((4, 7), (4, 8)), ((5, 7), (6, 7)), ((5, 7), (5, 8)), ((8, 7), (8, 6)), ((8, 7), (8, 8)), ((1, 8), (1, 9)), ((1, 8), (2, 8)), ((3, 8), (4, 8)), ((3, 8), (3, 9)), ((4, 8), (4, 9)), ((4, 8), (5, 8)), ((5, 8), (5, 9)), ((6, 8), (7, 8)), ((8, 8), (7, 8)), ((8, 8), (8, 9)), ((8, 2), (8, 3)), ((8, 5), (8, 6)), ((3, 6), (4, 6)), ((7, 6), (8, 6)), ((1, 9), (1, 10)), ((3, 9), (4, 9)), ((4, 9), (5, 9)), ((7, 8), (7, 9)), ((8, 9), (7, 9)), ((8, 9), (8, 10))])"
      ]
     },
     "execution_count": 346,
     "metadata": {},
     "output_type": "execute_result"
    }
   ],
   "source": [
    "#show(matrix)\n",
    "Graph2.edges"
   ]
  },
  {
   "cell_type": "code",
   "execution_count": null,
   "metadata": {},
   "outputs": [],
   "source": []
  }
 ],
 "metadata": {
  "kernelspec": {
   "display_name": "Python 3",
   "language": "python",
   "name": "python3"
  },
  "language_info": {
   "codemirror_mode": {
    "name": "ipython",
    "version": 3
   },
   "file_extension": ".py",
   "mimetype": "text/x-python",
   "name": "python",
   "nbconvert_exporter": "python",
   "pygments_lexer": "ipython3",
   "version": "3.7.0"
  }
 },
 "nbformat": 4,
 "nbformat_minor": 2
}
